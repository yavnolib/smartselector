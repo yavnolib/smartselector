{
 "cells": [
  {
   "cell_type": "code",
   "execution_count": 1,
   "metadata": {},
   "outputs": [],
   "source": [
    "from pynotifier import NotificationClient, Notification\n",
    "from pynotifier.backends import platform"
   ]
  },
  {
   "cell_type": "code",
   "execution_count": 2,
   "metadata": {},
   "outputs": [],
   "source": [
    "c = NotificationClient()\n",
    "\n",
    "c.register_backend(platform.Backend())"
   ]
  },
  {
   "cell_type": "code",
   "execution_count": 4,
   "metadata": {},
   "outputs": [],
   "source": [
    "notification = Notification(title='Hello', message='World')\n",
    "\n",
    "c.notify_all(notification)"
   ]
  }
 ],
 "metadata": {
  "kernelspec": {
   "display_name": "smartselector-ncQVLygL-py3.11",
   "language": "python",
   "name": "python3"
  },
  "language_info": {
   "codemirror_mode": {
    "name": "ipython",
    "version": 3
   },
   "file_extension": ".py",
   "mimetype": "text/x-python",
   "name": "python",
   "nbconvert_exporter": "python",
   "pygments_lexer": "ipython3",
   "version": "3.11.7"
  }
 },
 "nbformat": 4,
 "nbformat_minor": 2
}
