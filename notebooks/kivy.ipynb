{
 "cells": [
  {
   "cell_type": "code",
   "execution_count": 1,
   "metadata": {},
   "outputs": [
    {
     "name": "stderr",
     "output_type": "stream",
     "text": [
      "[\u001b[1;32mINFO\u001b[0m   ] [Logger      ] Record log in /home/yaroslav/.kivy/logs/kivy_25-05-08_1.txt\n",
      "[\u001b[1;31mERROR\u001b[0m  ] [Core        ] option --f not a unique prefix\n"
     ]
    },
    {
     "name": "stdout",
     "output_type": "stream",
     "text": [
      "Kivy Usage: ipykernel_launcher.py [KIVY OPTION...] [-- PROGRAM OPTIONS]::\n",
      "\n",
      "            Options placed after a '-- ' separator, will not be touched by kivy,\n",
      "            and instead passed to your program.\n",
      "\n",
      "            Set KIVY_NO_ARGS=1 in your environment or before you import Kivy to\n",
      "            disable Kivy's argument parser.\n",
      "\n",
      "        -h, --help\n",
      "            Prints this help message.\n",
      "        -d, --debug\n",
      "            Shows debug log.\n",
      "        -a, --auto-fullscreen\n",
      "            Force 'auto' fullscreen mode (no resolution change).\n",
      "            Uses your display's resolution. This is most likely what you want.\n",
      "        -c, --config section:key[:value]\n",
      "            Set a custom [section] key=value in the configuration object.\n",
      "        -f, --fullscreen\n",
      "            Force running in fullscreen mode.\n",
      "        -k, --fake-fullscreen\n",
      "            Force 'fake' fullscreen mode (no window border/decoration).\n",
      "            Uses the resolution specified by width and height in your config.\n",
      "        -w, --windowed\n",
      "            Force running in a window.\n",
      "        -p, --provider id:provider[,options]\n",
      "            Add an input provider (eg: ccvtable1:tuio,192.168.0.1:3333).\n",
      "        -m mod, --module=mod\n",
      "            Activate a module (use \"list\" to get a list of available modules).\n",
      "        -r, --rotation\n",
      "            Rotate the window's contents (0, 90, 180, 270).\n",
      "        -s, --save\n",
      "            Save current Kivy configuration.\n",
      "        --size=640x480\n",
      "            Size of window geometry.\n",
      "        --dpi=96\n",
      "            Manually overload the Window DPI (for testing only.)\n",
      "    \n"
     ]
    },
    {
     "ename": "SystemExit",
     "evalue": "2",
     "output_type": "error",
     "traceback": [
      "An exception has occurred, use %tb to see the full traceback.\n",
      "\u001b[31mSystemExit\u001b[39m\u001b[31m:\u001b[39m 2\n"
     ]
    },
    {
     "name": "stderr",
     "output_type": "stream",
     "text": [
      " /home/yaroslav/.cache/pypoetry/virtualenvs/smartselector-ncQVLygL-py3.11/lib/python3.11/site-packages/IPython/core/interactiveshell.py:3678: UserWarning: To exit: use 'exit', 'quit', or Ctrl-D.\n",
      "   warn(\"To exit: use 'exit', 'quit', or Ctrl-D.\", stacklevel=1)\n"
     ]
    }
   ],
   "source": [
    "from kivy.uix.popup import Popup"
   ]
  }
 ],
 "metadata": {
  "kernelspec": {
   "display_name": "smartselector-ncQVLygL-py3.11",
   "language": "python",
   "name": "python3"
  },
  "language_info": {
   "codemirror_mode": {
    "name": "ipython",
    "version": 3
   },
   "file_extension": ".py",
   "mimetype": "text/x-python",
   "name": "python",
   "nbconvert_exporter": "python",
   "pygments_lexer": "ipython3",
   "version": "3.11.7"
  }
 },
 "nbformat": 4,
 "nbformat_minor": 2
}
